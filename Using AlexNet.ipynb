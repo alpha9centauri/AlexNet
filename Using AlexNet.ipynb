{
 "cells": [
  {
   "cell_type": "markdown",
   "metadata": {},
   "source": [
    "### Loading the libraries"
   ]
  },
  {
   "cell_type": "code",
   "execution_count": 1,
   "metadata": {},
   "outputs": [
    {
     "name": "stderr",
     "output_type": "stream",
     "text": [
      "Using TensorFlow backend.\n"
     ]
    }
   ],
   "source": [
    "import os\n",
    "import cv2\n",
    "import numpy as np\n",
    "from PIL import Image\n",
    "import matplotlib.pyplot as plt\n",
    "from sklearn.model_selection import train_test_split\n",
    "\n",
    "from tensorflow import keras\n",
    "from keras.models import Sequential\n",
    "from keras.layers import Conv2D,MaxPooling2D,Dense,Flatten,Dropout\n",
    "from keras.layers.normalization import BatchNormalization"
   ]
  },
  {
   "cell_type": "markdown",
   "metadata": {},
   "source": [
    "### Data Loading and exploration"
   ]
  },
  {
   "cell_type": "code",
   "execution_count": 2,
   "metadata": {},
   "outputs": [
    {
     "name": "stdout",
     "output_type": "stream",
     "text": [
      "List of Categories =  ['n02088364-beagle', 'n02099601-golden_retriever', 'n02099712-Labrador_retriever', 'n02102318-cocker_spaniel', 'n02106550-Rottweiler', 'n02106662-German_shepherd', 'n02107142-Doberman', 'n02108089-boxer', 'n02108422-bull_mastiff', 'n02108551-Tibetan_mastiff', 'n02109047-Great_Dane', 'n02110958-pug', 'n02112018-Pomeranian'] \n",
      "\n",
      "No. of categories =  13\n"
     ]
    }
   ],
   "source": [
    "fpath = \"dataset/images/Images/\"\n",
    "random_seed = 42\n",
    "\n",
    "categories = os.listdir(fpath)\n",
    "categories = categories[:20]\n",
    "print(\"List of Categories = \", categories, \"\\n\\nNo. of categories = \", len(categories))"
   ]
  },
  {
   "cell_type": "code",
   "execution_count": 3,
   "metadata": {},
   "outputs": [
    {
     "name": "stdout",
     "output_type": "stream",
     "text": [
      "No. of images loaded =  2163 \n",
      "No. of labels loaded =  2163\n",
      "<class 'list'> <class 'list'>\n"
     ]
    }
   ],
   "source": [
    "def load_images_and_labels(categories):\n",
    "    img_lst = []\n",
    "    labels = []\n",
    "    for index, category in enumerate(categories): \n",
    "        for image_name in os.listdir(fpath + \"/\" + category):\n",
    "            img = cv2.imread(fpath + \"/\" + category + \"/\" + image_name)\n",
    "            img = cv2.cvtColor(img, cv2.COLOR_BGR2RGB) # converting colorspace from BGR to RGB\n",
    "            \n",
    "            img_array = Image.fromarray(img, 'RGB')\n",
    "            #resize image to 227 x 227 because the input image resolution for AlexNet is 227 x 227\n",
    "            \n",
    "            resized_img = img_array.resize((227, 227))\n",
    "            \n",
    "            img_lst.append(np.array(resized_img))\n",
    "            \n",
    "            labels.append(index)\n",
    "    return img_lst, labels\n",
    "\n",
    "images, labels = load_images_and_labels(categories)\n",
    "print(\"No. of images loaded = \",len(images),\"\\nNo. of labels loaded = \",len(labels))\n",
    "print(type(images),type(labels))"
   ]
  },
  {
   "cell_type": "code",
   "execution_count": 4,
   "metadata": {},
   "outputs": [
    {
     "name": "stdout",
     "output_type": "stream",
     "text": [
      "Images shape =  (2163, 227, 227, 3) \n",
      "Labels shape =  (2163,)\n",
      "<class 'numpy.ndarray'> <class 'numpy.ndarray'>\n"
     ]
    }
   ],
   "source": [
    "images = np.array(images)\n",
    "labels = np.array(labels)\n",
    "\n",
    "print(\"Images shape = \",images.shape,\"\\nLabels shape = \",labels.shape)\n",
    "print(type(images),type(labels))"
   ]
  },
  {
   "cell_type": "markdown",
   "metadata": {},
   "source": [
    "### Prepare data for training the CNN model"
   ]
  },
  {
   "cell_type": "markdown",
   "metadata": {},
   "source": [
    "For training the CNN model we have to shuffle all the data that is loaded in images, labels list."
   ]
  },
  {
   "cell_type": "code",
   "execution_count": 5,
   "metadata": {},
   "outputs": [
    {
     "name": "stdout",
     "output_type": "stream",
     "text": [
      " 'n' values before shuffling =  [   0    1    2 ... 2160 2161 2162]\n",
      "\n",
      "'n' values after shuffling =  [ 786 1542 1270 ... 1130 1294  860]\n"
     ]
    }
   ],
   "source": [
    "# step 1 in data shuffling\n",
    "\n",
    "# get equally spaced numbers in a given range\n",
    "n = np.arange(images.shape[0])\n",
    "print(\" 'n' values before shuffling = \", n)\n",
    "\n",
    "# shuffle all the equally spaced values in list 'n'\n",
    "np.random.seed(random_seed)\n",
    "np.random.shuffle(n)\n",
    "print(\"\\n'n' values after shuffling = \", n)"
   ]
  },
  {
   "cell_type": "code",
   "execution_count": 6,
   "metadata": {},
   "outputs": [],
   "source": [
    "# step 2 in data shuffling\n",
    "\n",
    "# shuffle images and corresponding labels data in both the lists\n",
    "images = images[n]\n",
    "labels = labels[n]\n"
   ]
  },
  {
   "cell_type": "code",
   "execution_count": 7,
   "metadata": {},
   "outputs": [
    {
     "name": "stdout",
     "output_type": "stream",
     "text": [
      "uint8 int32\n"
     ]
    }
   ],
   "source": [
    "print(images.dtype, labels.dtype)"
   ]
  },
  {
   "cell_type": "markdown",
   "metadata": {},
   "source": [
    "Data Normalization"
   ]
  },
  {
   "cell_type": "code",
   "execution_count": 8,
   "metadata": {},
   "outputs": [
    {
     "name": "stdout",
     "output_type": "stream",
     "text": [
      "Images shape after normalization =  (2163, 227, 227, 3)\n"
     ]
    }
   ],
   "source": [
    "images = images.astype(np.float32)\n",
    "labels = labels.astype(np.int32)\n",
    "\n",
    "images  = images / 255\n",
    "\n",
    "print(\"Images shape after normalization = \", images.shape)"
   ]
  },
  {
   "cell_type": "markdown",
   "metadata": {},
   "source": [
    "Splitting the data"
   ]
  },
  {
   "cell_type": "code",
   "execution_count": 9,
   "metadata": {},
   "outputs": [
    {
     "name": "stdout",
     "output_type": "stream",
     "text": [
      "x_train shape =  (1730, 227, 227, 3)\n",
      "y_train shape =  (1730,)\n",
      "\n",
      "x_test shape =  (433, 227, 227, 3)\n",
      "y_test shape =  (433,)\n"
     ]
    }
   ],
   "source": [
    "x_train, x_test, y_train, y_test = train_test_split(images, labels,\n",
    "                                                    test_size = 0.2, random_state = random_seed)\n",
    "\n",
    "print(\"x_train shape = \",x_train.shape)\n",
    "print(\"y_train shape = \",y_train.shape)\n",
    "print(\"\\nx_test shape = \",x_test.shape)\n",
    "print(\"y_test shape = \",y_test.shape)"
   ]
  },
  {
   "cell_type": "markdown",
   "metadata": {},
   "source": [
    "### Define AlexNet CNN model"
   ]
  },
  {
   "cell_type": "code",
   "execution_count": 30,
   "metadata": {},
   "outputs": [],
   "source": [
    "model=Sequential()\n",
    "\n",
    "#1 conv layer\n",
    "model.add(Conv2D(filters=96,kernel_size=(11,11),strides=(4,4),\n",
    "                 padding=\"valid\",activation=\"relu\",input_shape=(227,227,3)))\n",
    "\n",
    "#1 max pool layer\n",
    "model.add(MaxPooling2D(pool_size=(3,3),strides=(2,2)))\n",
    "\n",
    "model.add(BatchNormalization())\n",
    "\n",
    "#2 conv layer\n",
    "model.add(Conv2D(filters=256,kernel_size=(5,5),strides=(1,1),\n",
    "                 padding=\"valid\",activation=\"relu\"))\n",
    "\n",
    "#2 max pool layer\n",
    "model.add(MaxPooling2D(pool_size=(3,3),strides=(2,2)))\n",
    "\n",
    "model.add(BatchNormalization())\n",
    "\n",
    "#3 conv layer\n",
    "model.add(Conv2D(filters=384,kernel_size=(3,3),strides=(1,1),\n",
    "                 padding=\"valid\",activation=\"relu\"))\n",
    "\n",
    "#4 conv layer\n",
    "model.add(Conv2D(filters=384,kernel_size=(3,3),strides=(1,1),\n",
    "                 padding=\"valid\",activation=\"relu\"))\n",
    "\n",
    "#5 conv layer\n",
    "model.add(Conv2D(filters=256,kernel_size=(3,3),strides=(1,1),\n",
    "                 padding=\"valid\",activation=\"relu\"))\n",
    "\n",
    "#3 max pool layer\n",
    "model.add(MaxPooling2D(pool_size=(3,3),strides=(2,2)))\n",
    "\n",
    "model.add(BatchNormalization())\n",
    "\n",
    "\n",
    "model.add(Flatten())\n",
    "\n",
    "#1 dense layer\n",
    "model.add(Dense(4096,input_shape=(227,227,3),activation=\"relu\"))\n",
    "\n",
    "model.add(Dropout(0.4))\n",
    "\n",
    "model.add(BatchNormalization())\n",
    "\n",
    "#2 dense layer\n",
    "model.add(Dense(4096,activation=\"relu\"))\n",
    "\n",
    "model.add(Dropout(0.4))\n",
    "\n",
    "model.add(BatchNormalization())\n",
    "\n",
    "#3 dense layer\n",
    "model.add(Dense(1000,activation=\"relu\"))\n",
    "\n",
    "model.add(Dropout(0.4))\n",
    "\n",
    "model.add(BatchNormalization())\n",
    "\n",
    "#output layer\n",
    "model.add(Dense(20,activation=\"softmax\"))"
   ]
  },
  {
   "cell_type": "markdown",
   "metadata": {},
   "source": [
    "Compile the cnn model"
   ]
  },
  {
   "cell_type": "code",
   "execution_count": 31,
   "metadata": {},
   "outputs": [],
   "source": [
    "model.compile(optimizer = \"adam\", loss = \"sparse_categorical_crossentropy\",\n",
    "             metrics = [\"accuracy\"])"
   ]
  },
  {
   "cell_type": "markdown",
   "metadata": {},
   "source": [
    "### Train the model"
   ]
  },
  {
   "cell_type": "code",
   "execution_count": 32,
   "metadata": {},
   "outputs": [
    {
     "name": "stdout",
     "output_type": "stream",
     "text": [
      "Epoch 1/50\n",
      "1730/1730 [==============================] - 11s 6ms/step - loss: 3.5635 - accuracy: 0.0931\n",
      "Epoch 2/50\n",
      "1730/1730 [==============================] - 9s 5ms/step - loss: 3.0887 - accuracy: 0.1283\n",
      "Epoch 3/50\n",
      "1730/1730 [==============================] - 9s 5ms/step - loss: 2.9499 - accuracy: 0.1289\n",
      "Epoch 4/50\n",
      "1730/1730 [==============================] - 9s 5ms/step - loss: 2.8453 - accuracy: 0.1439\n",
      "Epoch 5/50\n",
      "1730/1730 [==============================] - 9s 5ms/step - loss: 2.7680 - accuracy: 0.1387\n",
      "Epoch 6/50\n",
      "1730/1730 [==============================] - 9s 5ms/step - loss: 2.7411 - accuracy: 0.1549\n",
      "Epoch 7/50\n",
      "1730/1730 [==============================] - 9s 5ms/step - loss: 2.6873 - accuracy: 0.1549\n",
      "Epoch 8/50\n",
      "1730/1730 [==============================] - 9s 5ms/step - loss: 2.6140 - accuracy: 0.1595\n",
      "Epoch 9/50\n",
      "1730/1730 [==============================] - 9s 5ms/step - loss: 2.5309 - accuracy: 0.1855\n",
      "Epoch 10/50\n",
      "1730/1730 [==============================] - 9s 5ms/step - loss: 2.5435 - accuracy: 0.1723\n",
      "Epoch 11/50\n",
      "1730/1730 [==============================] - 9s 5ms/step - loss: 2.4419 - accuracy: 0.2052\n",
      "Epoch 12/50\n",
      "1730/1730 [==============================] - 9s 5ms/step - loss: 2.4837 - accuracy: 0.1873\n",
      "Epoch 13/50\n",
      "1730/1730 [==============================] - 9s 5ms/step - loss: 2.4196 - accuracy: 0.2139\n",
      "Epoch 14/50\n",
      "1730/1730 [==============================] - 9s 5ms/step - loss: 2.3739 - accuracy: 0.2225\n",
      "Epoch 15/50\n",
      "1730/1730 [==============================] - 10s 5ms/step - loss: 2.3826 - accuracy: 0.2162\n",
      "Epoch 16/50\n",
      "1730/1730 [==============================] - 9s 5ms/step - loss: 2.3049 - accuracy: 0.2370\n",
      "Epoch 17/50\n",
      "1730/1730 [==============================] - 10s 5ms/step - loss: 2.2540 - accuracy: 0.2555\n",
      "Epoch 18/50\n",
      "1730/1730 [==============================] - 10s 6ms/step - loss: 2.1935 - accuracy: 0.2694\n",
      "Epoch 19/50\n",
      "1730/1730 [==============================] - 10s 5ms/step - loss: 2.2921 - accuracy: 0.2416\n",
      "Epoch 20/50\n",
      "1730/1730 [==============================] - 10s 6ms/step - loss: 2.2399 - accuracy: 0.2566\n",
      "Epoch 21/50\n",
      "1730/1730 [==============================] - 10s 6ms/step - loss: 2.1093 - accuracy: 0.2925\n",
      "Epoch 22/50\n",
      "1730/1730 [==============================] - 10s 6ms/step - loss: 2.0584 - accuracy: 0.3220\n",
      "Epoch 23/50\n",
      "1730/1730 [==============================] - 10s 6ms/step - loss: 2.0270 - accuracy: 0.3069\n",
      "Epoch 24/50\n",
      "1730/1730 [==============================] - 10s 6ms/step - loss: 1.9515 - accuracy: 0.3410\n",
      "Epoch 25/50\n",
      "1730/1730 [==============================] - 10s 6ms/step - loss: 1.9610 - accuracy: 0.3376\n",
      "Epoch 26/50\n",
      "1730/1730 [==============================] - 10s 6ms/step - loss: 1.8626 - accuracy: 0.3740\n",
      "Epoch 27/50\n",
      "1730/1730 [==============================] - 10s 6ms/step - loss: 1.8278 - accuracy: 0.3867\n",
      "Epoch 28/50\n",
      "1730/1730 [==============================] - 10s 6ms/step - loss: 1.8298 - accuracy: 0.3948\n",
      "Epoch 29/50\n",
      "1730/1730 [==============================] - 10s 6ms/step - loss: 1.7737 - accuracy: 0.4029\n",
      "Epoch 30/50\n",
      "1730/1730 [==============================] - 10s 6ms/step - loss: 1.6597 - accuracy: 0.4393\n",
      "Epoch 31/50\n",
      "1730/1730 [==============================] - 10s 6ms/step - loss: 1.6588 - accuracy: 0.4491\n",
      "Epoch 32/50\n",
      "1730/1730 [==============================] - 10s 6ms/step - loss: 1.5967 - accuracy: 0.4601\n",
      "Epoch 33/50\n",
      "1730/1730 [==============================] - 10s 6ms/step - loss: 1.4678 - accuracy: 0.5000\n",
      "Epoch 34/50\n",
      "1730/1730 [==============================] - 10s 6ms/step - loss: 1.4099 - accuracy: 0.5266\n",
      "Epoch 35/50\n",
      "1730/1730 [==============================] - 10s 6ms/step - loss: 1.2428 - accuracy: 0.5728\n",
      "Epoch 36/50\n",
      "1730/1730 [==============================] - 10s 6ms/step - loss: 1.2555 - accuracy: 0.5659\n",
      "Epoch 37/50\n",
      "1730/1730 [==============================] - 10s 6ms/step - loss: 1.1085 - accuracy: 0.6324\n",
      "Epoch 38/50\n",
      "1730/1730 [==============================] - 10s 6ms/step - loss: 1.0686 - accuracy: 0.6341\n",
      "Epoch 39/50\n",
      "1730/1730 [==============================] - 10s 6ms/step - loss: 1.2032 - accuracy: 0.6156\n",
      "Epoch 40/50\n",
      "1730/1730 [==============================] - 10s 6ms/step - loss: 1.1357 - accuracy: 0.6202\n",
      "Epoch 41/50\n",
      "1730/1730 [==============================] - 10s 6ms/step - loss: 0.8115 - accuracy: 0.7249\n",
      "Epoch 42/50\n",
      "1730/1730 [==============================] - 10s 6ms/step - loss: 0.8181 - accuracy: 0.7318\n",
      "Epoch 43/50\n",
      "1730/1730 [==============================] - 10s 6ms/step - loss: 0.7281 - accuracy: 0.7555\n",
      "Epoch 44/50\n",
      "1730/1730 [==============================] - 10s 6ms/step - loss: 0.6916 - accuracy: 0.7595\n",
      "Epoch 45/50\n",
      "1730/1730 [==============================] - 10s 6ms/step - loss: 0.5970 - accuracy: 0.8064\n",
      "Epoch 46/50\n",
      "1730/1730 [==============================] - 10s 6ms/step - loss: 0.5032 - accuracy: 0.8266\n",
      "Epoch 47/50\n",
      "1730/1730 [==============================] - 10s 6ms/step - loss: 0.4497 - accuracy: 0.8503\n",
      "Epoch 48/50\n",
      "1730/1730 [==============================] - 10s 6ms/step - loss: 0.5326 - accuracy: 0.8254\n",
      "Epoch 49/50\n",
      "1730/1730 [==============================] - 10s 6ms/step - loss: 0.4464 - accuracy: 0.8445\n",
      "Epoch 50/50\n",
      "1730/1730 [==============================] - 10s 6ms/step - loss: 0.4190 - accuracy: 0.8561\n"
     ]
    },
    {
     "data": {
      "text/plain": [
       "<keras.callbacks.callbacks.History at 0x2a9eefbd978>"
      ]
     },
     "execution_count": 32,
     "metadata": {},
     "output_type": "execute_result"
    }
   ],
   "source": [
    "model.fit(x_train, y_train, epochs = 50, batch_size = 20)"
   ]
  },
  {
   "cell_type": "code",
   "execution_count": 33,
   "metadata": {},
   "outputs": [],
   "source": [
    "predictions = model.predict(x_test)"
   ]
  },
  {
   "cell_type": "code",
   "execution_count": 34,
   "metadata": {},
   "outputs": [
    {
     "name": "stdout",
     "output_type": "stream",
     "text": [
      "433/433 [==============================] - 1s 2ms/step\n",
      "[6.401017335490872, 0.26096996665000916]\n"
     ]
    }
   ],
   "source": [
    "results = model.evaluate(x_test, y_test, batch_size = 50)\n",
    "print(results)"
   ]
  },
  {
   "cell_type": "code",
   "execution_count": 17,
   "metadata": {},
   "outputs": [
    {
     "data": {
      "text/plain": [
       "[5.273834789047065, 0.21709007024765015]"
      ]
     },
     "execution_count": 17,
     "metadata": {},
     "output_type": "execute_result"
    }
   ],
   "source": [
    "results"
   ]
  },
  {
   "cell_type": "code",
   "execution_count": null,
   "metadata": {},
   "outputs": [],
   "source": []
  }
 ],
 "metadata": {
  "kernelspec": {
   "display_name": "Python 3",
   "language": "python",
   "name": "python3"
  },
  "language_info": {
   "codemirror_mode": {
    "name": "ipython",
    "version": 3
   },
   "file_extension": ".py",
   "mimetype": "text/x-python",
   "name": "python",
   "nbconvert_exporter": "python",
   "pygments_lexer": "ipython3",
   "version": "3.7.5"
  }
 },
 "nbformat": 4,
 "nbformat_minor": 4
}
